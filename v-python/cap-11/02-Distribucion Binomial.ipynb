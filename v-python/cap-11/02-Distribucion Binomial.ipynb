{
 "cells": [
  {
   "cell_type": "markdown",
   "metadata": {},
   "source": [
    "## Distribución Binomial\n",
    "\n",
    "Si $X$ es una variable aleatoria que mide el \"número de éxitos\" y se realizan $n$ ensayos de Bernoulli independientes entre sí, diremos que $X$ se distribuye como una binomial con parámetro $n$ y $p$.\n",
    "\n",
    "\n",
    "$$X \\sim B(n,p)$$\n",
    "\n",
    "donde $p$ es la probabilidad de éxito y $q=1-p$ es la probabilidad de fracaso.\n",
    "\n",
    "*   El **dominio** de $X$ será $D_X = \\{0,1,2,...,n\\}$\n",
    "\n",
    "*   La **función de densidad** vendrá dada por\n",
    "\n",
    "$$f(k) = {n\\choose k}p^k(1-p)^{n-k}$$\n",
    "\n",
    "*   La **función de distribución** vendrá dada por\n",
    "\n",
    "$$F(x) = \\left\\{ \\begin{array}{lcc}\n",
    "             0 &   si  & x < 0 \\\\\n",
    "             \\\\ \\sum_{k=0}^xf(k) &  si & 0 \\leq x < n \\\\\n",
    "             \\\\ 1 &  si  & x \\geq 1\n",
    "             \\end{array}\n",
    "   \\right.$$\n",
    "   \n",
    "\n",
    "*   **Esperanza** $E(X) = np$\n",
    "\n",
    "*   **Varianza** $Var(X) = npq$\n",
    "\n",
    "\n",
    "**Atención** Veamos que la distribución de Bernoulli es un caso particular de la binomial. Basta con tomar $n=1$ y tendremos que $X \\sim Be(p)$ y $X \\sim B(1,p)$ son equivalentes.\n",
    "\n",
    "\n",
    "El código de la distribución Binomial:\n",
    "\n",
    "*   En `R` tenemos las funciones del paquete `Rlab`:`dbinom(x,size,prob)`,                    `pbinom(q,size,prob)`, `qbinom(p,size,prob)`,`rbinom(n,size,prob)` donde `prob` es la       probabilidad de éxito y `size` el número de ensayos del experimento.\n",
    "\n",
    "\n",
    "*   En `Python` tenmos las funciones del paquete `scipy.stats.binom`: `pmf(k,n,p)`,         `cdf(k,n,p)`, `ppf(q,n,p)`, `rvs(n,p,size)` donde `p` es la probabilidad de éxito y `n`      el numero de ensayos del experimento."
   ]
  },
  {
   "cell_type": "code",
   "execution_count": 2,
   "metadata": {},
   "outputs": [],
   "source": [
    "from scipy.stats import binom\n",
    "import matplotlib.pyplot as plt\n",
    "import numpy as np"
   ]
  },
  {
   "cell_type": "code",
   "execution_count": 15,
   "metadata": {},
   "outputs": [
    {
     "data": {
      "image/png": "[encoded data removed]",
      "text/plain": [
       "<Figure size 432x288 with 1 Axes>"
      ]
     },
     "metadata": {
      "needs_background": "light"
     },
     "output_type": "display_data"
    },
    {
     "data": {
      "image/png": "[encoded data removed]",
      "text/plain": [
       "<Figure size 432x288 with 1 Axes>"
      ]
     },
     "metadata": {
      "needs_background": "light"
     },
     "output_type": "display_data"
    }
   ],
   "source": [
    "fig, ax = plt.subplots(1,1)\n",
    "n = 7\n",
    "p = 0.4\n",
    "\n",
    "mean, var, skew, kurt = binom.stats(n,p, moments = 'mvsk')\n",
    "\n",
    "x = np.arange(0,n+1)\n",
    "ax.plot(x, binom.pmf(x,n,p), 'bo', ms=8, label = 'Funcion de densidad B(7,0.4)')\n",
    "ax.vlines(x, 0, binom.pmf(x,n,p), colors = 'b', lw= 4, alpha =0.5)\n",
    "\n",
    "rv = binom(n,p)\n",
    "ax.vlines(x,0, rv.pmf(x), colors = 'y', linestyle ='--', lw =3, label = 'Distribucin teorica')\n",
    "\n",
    "ax.legend(loc='best', frameon=False)\n",
    "\n",
    "plt.show()\n",
    "\n",
    "fix, ax = plt.subplots(1,1)\n",
    "r = binom.rvs(n,p,size=10000)\n",
    "ax.hist(r, bins=n)\n",
    "\n",
    "plt.show()"
   ]
  },
  {
   "cell_type": "code",
   "execution_count": 14,
   "metadata": {},
   "outputs": [
    {
     "name": "stdout",
     "output_type": "stream",
     "text": [
      "Media 2.800000\n",
      "Varianza 1.680000\n",
      "Sesgo 0.154303\n",
      "Curtosis -0.261905\n"
     ]
    }
   ],
   "source": [
    "print(\"Media %f\" %mean)\n",
    "print(\"Varianza %f\" %var)\n",
    "print(\"Sesgo %f\" %skew)\n",
    "print(\"Curtosis %f\" %kurt)"
   ]
  },
  {
   "cell_type": "code",
   "execution_count": null,
   "metadata": {},
   "outputs": [],
   "source": []
  }
 ],
 "metadata": {
  "kernelspec": {
   "display_name": "Python 3",
   "language": "python",
   "name": "python3"
  },
  "language_info": {
   "codemirror_mode": {
    "name": "ipython",
    "version": 3
   },
   "file_extension": ".py",
   "mimetype": "text/x-python",
   "name": "python",
   "nbconvert_exporter": "python",
   "pygments_lexer": "ipython3",
   "version": "3.7.6"
  }
 },
 "nbformat": 4,
 "nbformat_minor": 4
}
