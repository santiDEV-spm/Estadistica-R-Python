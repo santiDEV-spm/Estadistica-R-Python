{
 "cells": [
  {
   "cell_type": "markdown",
   "metadata": {},
   "source": [
    "# Reglas de Agrupacion\n",
    "\n",
    "Usando la **Regla de la Raiz cuadrada**\n",
    "\n",
    "$$k = \\left \\lceil{\\sqrt{n}}\\right \\rceil$$\n",
    "\n",
    "$k$ es el numero de clases"
   ]
  },
  {
   "cell_type": "code",
   "execution_count": 1,
   "metadata": {},
   "outputs": [],
   "source": [
    "import numpy as np\n",
    "import pandas as pd"
   ]
  },
  {
   "cell_type": "code",
   "execution_count": 2,
   "metadata": {},
   "outputs": [],
   "source": [
    "data = pd.read_csv(\"../../data/datacrab.txt\",delimiter=\" \")\n",
    "cw = data[\"width\"]"
   ]
  },
  {
   "cell_type": "code",
   "execution_count": 3,
   "metadata": {},
   "outputs": [
    {
     "data": {
      "text/plain": [
       "14.0"
      ]
     },
     "execution_count": 3,
     "metadata": {},
     "output_type": "execute_result"
    }
   ],
   "source": [
    "n = len(cw)\n",
    "k = np.ceil(np.sqrt(n))\n",
    "k"
   ]
  },
  {
   "cell_type": "markdown",
   "metadata": {},
   "source": [
    "Ahora vamos a definir la amplitud $A$ de los intervalos\n",
    "\n",
    "$$A = \\frac{\\max(x)-\\min(x)}{k}$$"
   ]
  },
  {
   "cell_type": "code",
   "execution_count": 4,
   "metadata": {},
   "outputs": [
    {
     "data": {
      "text/plain": [
       "0.9"
      ]
     },
     "execution_count": 4,
     "metadata": {},
     "output_type": "execute_result"
    }
   ],
   "source": [
    "A = (max(cw)-min(cw))/k\n",
    "A\n",
    "A = 0.9\n",
    "precision = 0.1\n",
    "A"
   ]
  },
  {
   "cell_type": "markdown",
   "metadata": {},
   "source": [
    "Ahora toca calcular los extremos de los intervalos"
   ]
  },
  {
   "cell_type": "code",
   "execution_count": 5,
   "metadata": {},
   "outputs": [
    {
     "data": {
      "text/plain": [
       "20.95"
      ]
     },
     "execution_count": 5,
     "metadata": {},
     "output_type": "execute_result"
    }
   ],
   "source": [
    "L1 = min(cw) - (1/2)*precision\n",
    "L1"
   ]
  },
  {
   "cell_type": "code",
   "execution_count": 13,
   "metadata": {},
   "outputs": [
    {
     "data": {
      "text/plain": [
       "array([20.95, 22.35, 23.75, 25.15, 26.55, 27.95, 29.35, 30.75, 32.15,\n",
       "       33.55])"
      ]
     },
     "execution_count": 13,
     "metadata": {},
     "output_type": "execute_result"
    }
   ],
   "source": [
    "L = np.zeros(int(k+1))\n",
    "\n",
    "for i in range(0,int(k+1)):\n",
    "    L[i] = L1 + A * i\n",
    "\n",
    "L    "
   ]
  },
  {
   "cell_type": "markdown",
   "metadata": {},
   "source": [
    "Por ultimo calculamos las marcas  de clase de los intervalos."
   ]
  },
  {
   "cell_type": "code",
   "execution_count": 64,
   "metadata": {},
   "outputs": [
    {
     "data": {
      "text/plain": [
       "array([21.575, 22.825, 24.075, 25.325, 26.575, 27.825, 29.075, 30.325,\n",
       "       31.575, 32.825, 34.075, 35.325, 36.575, 37.825])"
      ]
     },
     "execution_count": 64,
     "metadata": {},
     "output_type": "execute_result"
    }
   ],
   "source": [
    "X1 = (L[0]+L[1])/2\n",
    "X = np.zeros(14)\n",
    "\n",
    "for i in range(0,14):\n",
    "     X[i] = X1 + A*i\n",
    "\n",
    "X"
   ]
  },
  {
   "cell_type": "markdown",
   "metadata": {},
   "source": [
    "## Usando Regla de Sturges\n",
    "\n",
    "$k = \\left \\lceil{1+\\log_{2}(n)}\\right \\rceil$"
   ]
  },
  {
   "cell_type": "code",
   "execution_count": 8,
   "metadata": {},
   "outputs": [
    {
     "data": {
      "text/plain": [
       "9.0"
      ]
     },
     "execution_count": 8,
     "metadata": {},
     "output_type": "execute_result"
    }
   ],
   "source": [
    "k = np.ceil(1 + np.log2(n))\n",
    "k"
   ]
  },
  {
   "cell_type": "markdown",
   "metadata": {},
   "source": [
    "Ahora vamos a definir la amplitud $A$ de los intervalos\n",
    "\n",
    "$$A = \\frac{\\max(x)-\\min(x)}{k}$$"
   ]
  },
  {
   "cell_type": "code",
   "execution_count": 9,
   "metadata": {},
   "outputs": [
    {
     "data": {
      "text/plain": [
       "1.3888888888888888"
      ]
     },
     "execution_count": 9,
     "metadata": {},
     "output_type": "execute_result"
    }
   ],
   "source": [
    "A = (max(cw)-min(cw))/k\n",
    "A\n"
   ]
  },
  {
   "cell_type": "code",
   "execution_count": 10,
   "metadata": {},
   "outputs": [],
   "source": [
    "A = 1.4\n",
    "precision = 0.1"
   ]
  },
  {
   "cell_type": "markdown",
   "metadata": {},
   "source": [
    "Ahora toca calcular los extremos de los intervalos"
   ]
  },
  {
   "cell_type": "code",
   "execution_count": 11,
   "metadata": {},
   "outputs": [
    {
     "data": {
      "text/plain": [
       "array([20.95, 22.35, 23.75, 25.15, 26.55, 27.95, 29.35, 30.75, 32.15,\n",
       "       33.55])"
      ]
     },
     "execution_count": 11,
     "metadata": {},
     "output_type": "execute_result"
    }
   ],
   "source": [
    "L1 = min(cw) - (1/2)*precision\n",
    "L = np.zeros(int(k+1))\n",
    "\n",
    "for i in range(0,int(k+1)):\n",
    "    L[i] = L1 + A * i\n",
    "    \n",
    "L    "
   ]
  },
  {
   "cell_type": "code",
   "execution_count": 63,
   "metadata": {},
   "outputs": [
    {
     "data": {
      "text/plain": [
       "array([21.575, 22.825, 24.075, 25.325, 26.575, 27.825, 29.075, 30.325,\n",
       "       31.575, 32.825])"
      ]
     },
     "execution_count": 63,
     "metadata": {},
     "output_type": "execute_result"
    }
   ],
   "source": [
    "X1 = (L[0]+L[1])/2\n",
    "X = np.zeros(int(k))\n",
    "\n",
    "for i in range(0,int(k)):\n",
    "    X[i] = X1 + A * i\n",
    "\n",
    "X"
   ]
  },
  {
   "cell_type": "markdown",
   "metadata": {},
   "source": [
    "## Usando la Regla de FreedMan-Diaconis"
   ]
  },
  {
   "cell_type": "code",
   "execution_count": 27,
   "metadata": {},
   "outputs": [
    {
     "data": {
      "text/plain": [
       "1.005015267470426"
      ]
     },
     "execution_count": 27,
     "metadata": {},
     "output_type": "execute_result"
    }
   ],
   "source": [
    "from scipy.stats import iqr\n",
    "\n",
    "Afd = 2*iqr(cw)*n**(-1/3)\n",
    "Afd"
   ]
  },
  {
   "cell_type": "code",
   "execution_count": 30,
   "metadata": {},
   "outputs": [
    {
     "data": {
      "text/plain": [
       "13.0"
      ]
     },
     "execution_count": 30,
     "metadata": {},
     "output_type": "execute_result"
    }
   ],
   "source": [
    "k = np.ceil((max(cw)-min(cw))/Afd)\n",
    "k"
   ]
  },
  {
   "cell_type": "markdown",
   "metadata": {},
   "source": [
    "Calculemos la amplitud"
   ]
  },
  {
   "cell_type": "code",
   "execution_count": 31,
   "metadata": {},
   "outputs": [
    {
     "data": {
      "text/plain": [
       "0.9615384615384616"
      ]
     },
     "execution_count": 31,
     "metadata": {},
     "output_type": "execute_result"
    }
   ],
   "source": [
    "A = (max(cw)-min(cw))/k\n",
    "A"
   ]
  },
  {
   "cell_type": "code",
   "execution_count": 32,
   "metadata": {},
   "outputs": [],
   "source": [
    "A = 1.0\n",
    "precision = 0.1"
   ]
  },
  {
   "cell_type": "markdown",
   "metadata": {},
   "source": [
    "Seguimos calculando los extremos de los intervalos"
   ]
  },
  {
   "cell_type": "code",
   "execution_count": 42,
   "metadata": {},
   "outputs": [
    {
     "data": {
      "text/plain": [
       "array([20.95, 21.95, 22.95, 23.95, 24.95, 25.95, 26.95, 27.95, 28.95,\n",
       "       29.95, 30.95, 31.95, 32.95, 33.95])"
      ]
     },
     "execution_count": 42,
     "metadata": {},
     "output_type": "execute_result"
    }
   ],
   "source": [
    "L1 = min(cw)-(1/2)*precision\n",
    "L = np.zeros(14)\n",
    "\n",
    "for i in range(0,14):\n",
    "    L[i] = L1 + A*i\n",
    "\n",
    "L"
   ]
  },
  {
   "cell_type": "code",
   "execution_count": 62,
   "metadata": {},
   "outputs": [
    {
     "data": {
      "text/plain": [
       "array([21.575, 22.825, 24.075, 25.325, 26.575, 27.825, 29.075, 30.325,\n",
       "       31.575, 32.825, 34.075, 35.325, 36.575])"
      ]
     },
     "execution_count": 62,
     "metadata": {},
     "output_type": "execute_result"
    }
   ],
   "source": [
    "X1 = (L[0]+L[1])/2\n",
    "X = np.zeros(13)\n",
    "\n",
    "for i in range(0,13):\n",
    "    X[i] = X1 + A*i\n",
    "\n",
    "X"
   ]
  },
  {
   "cell_type": "markdown",
   "metadata": {},
   "source": [
    "## Usando la Regla de Scott"
   ]
  },
  {
   "cell_type": "code",
   "execution_count": 47,
   "metadata": {},
   "outputs": [
    {
     "data": {
      "text/plain": [
       "10.0"
      ]
     },
     "execution_count": 47,
     "metadata": {},
     "output_type": "execute_result"
    }
   ],
   "source": [
    "As = 3.5*np.std(cw)*n**(-1/3)\n",
    "k = np.ceil((max(cw)-min(cw))/As)\n",
    "k"
   ]
  },
  {
   "cell_type": "code",
   "execution_count": 49,
   "metadata": {},
   "outputs": [
    {
     "data": {
      "text/plain": [
       "1.25"
      ]
     },
     "execution_count": 49,
     "metadata": {},
     "output_type": "execute_result"
    }
   ],
   "source": [
    "A= (max(cw)-min(cw))/k\n",
    "A"
   ]
  },
  {
   "cell_type": "code",
   "execution_count": 50,
   "metadata": {},
   "outputs": [],
   "source": [
    "a = 1.3"
   ]
  },
  {
   "cell_type": "code",
   "execution_count": 51,
   "metadata": {},
   "outputs": [],
   "source": [
    "precision  = 0.1"
   ]
  },
  {
   "cell_type": "code",
   "execution_count": 52,
   "metadata": {},
   "outputs": [
    {
     "data": {
      "text/plain": [
       "20.95"
      ]
     },
     "execution_count": 52,
     "metadata": {},
     "output_type": "execute_result"
    }
   ],
   "source": [
    "L1 = min(cw)-(1/2)*precision\n",
    "L1"
   ]
  },
  {
   "cell_type": "code",
   "execution_count": 56,
   "metadata": {},
   "outputs": [
    {
     "data": {
      "text/plain": [
       "array([20.95, 22.2 , 23.45, 24.7 , 25.95, 27.2 , 28.45, 29.7 , 30.95,\n",
       "       32.2 , 33.45])"
      ]
     },
     "execution_count": 56,
     "metadata": {},
     "output_type": "execute_result"
    }
   ],
   "source": [
    "L = np.zeros(11)\n",
    "\n",
    "for i in range(0,11):\n",
    "    L[i] = L1 + A*i\n",
    "\n",
    "L"
   ]
  },
  {
   "cell_type": "code",
   "execution_count": 67,
   "metadata": {},
   "outputs": [
    {
     "data": {
      "text/plain": [
       "array([21.575, 22.825, 24.075, 25.325, 26.575, 27.825, 29.075, 30.325,\n",
       "       31.575, 32.825])"
      ]
     },
     "execution_count": 67,
     "metadata": {},
     "output_type": "execute_result"
    }
   ],
   "source": [
    "X1 = (L[0]+L[1])/2\n",
    "X = np.zeros(10)\n",
    "\n",
    "for i in range(0,10):\n",
    "    X[i] = X1 + A*i\n",
    "\n",
    "X"
   ]
  },
  {
   "cell_type": "code",
   "execution_count": null,
   "metadata": {},
   "outputs": [],
   "source": []
  }
 ],
 "metadata": {
  "kernelspec": {
   "display_name": "Python 3",
   "language": "python",
   "name": "python3"
  },
  "language_info": {
   "codemirror_mode": {
    "name": "ipython",
    "version": 3
   },
   "file_extension": ".py",
   "mimetype": "text/x-python",
   "name": "python",
   "nbconvert_exporter": "python",
   "pygments_lexer": "ipython3",
   "version": "3.7.6"
  }
 },
 "nbformat": 4,
 "nbformat_minor": 4
}
