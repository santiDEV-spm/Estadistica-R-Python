{
 "cells": [
  {
   "cell_type": "code",
   "execution_count": 31,
   "metadata": {},
   "outputs": [],
   "source": [
    "import math\n",
    "\n",
    "def raices(a,b,c):\n",
    "    d = math.pow(b,2) - (4*a*c)\n",
    "    x1 = (-b + math.sqrt(d))/(2*a)\n",
    "    x2 = (-b - math.sqrt(d))/(2*a)\n",
    "    return [x1,x2]"
   ]
  },
  {
   "cell_type": "code",
   "execution_count": 32,
   "metadata": {},
   "outputs": [
    {
     "data": {
      "text/plain": [
       "[1.0, -1.0]"
      ]
     },
     "execution_count": 32,
     "metadata": {},
     "output_type": "execute_result"
    }
   ],
   "source": [
    "raices(1,0,-1)"
   ]
  },
  {
   "cell_type": "code",
   "execution_count": 39,
   "metadata": {},
   "outputs": [],
   "source": [
    "def reverse(str):\n",
    "    s = \"\"\n",
    "    for c in str:\n",
    "        s = c + s\n",
    "    return s\n",
    "\n",
    "def palindromo():\n",
    "    palabra = input(\"Ingrese una palabra: \")\n",
    "    \n",
    "    if palabra == reverse(palabra):\n",
    "        print(\"Es palindormo\")\n",
    "    else:\n",
    "        print(\"No es palindromo\")"
   ]
  },
  {
   "cell_type": "code",
   "execution_count": 40,
   "metadata": {},
   "outputs": [
    {
     "name": "stdout",
     "output_type": "stream",
     "text": [
      "Es palindormo\n"
     ]
    }
   ],
   "source": [
    "palindromo()"
   ]
  },
  {
   "cell_type": "code",
   "execution_count": 46,
   "metadata": {},
   "outputs": [
    {
     "data": {
      "text/plain": [
       "{1: 1.0,\n",
       " 2: 1.4142135623730951,\n",
       " 3: 1.7320508075688772,\n",
       " 4: 2.0,\n",
       " 5: 2.23606797749979,\n",
       " 6: 2.449489742783178,\n",
       " 7: 2.6457513110645907,\n",
       " 8: 2.8284271247461903,\n",
       " 9: 3.0,\n",
       " 10: 3.1622776601683795}"
      ]
     },
     "execution_count": 46,
     "metadata": {},
     "output_type": "execute_result"
    }
   ],
   "source": [
    "dic"
   ]
  },
  {
   "cell_type": "code",
   "execution_count": 2,
   "metadata": {},
   "outputs": [
    {
     "name": "stdout",
     "output_type": "stream",
     "text": [
      "...\n",
      ".-\n",
      "-.\n",
      "-\n",
      "..\n",
      ".-\n",
      "--.\n",
      "--.--\n"
     ]
    }
   ],
   "source": [
    "alfabeto = {'a':\".-\",\n",
    "           'b':\"-...\",\n",
    "           'c':\"-.-.\",\n",
    "           'd':\"-..\",\n",
    "           'e':\".\",\n",
    "           'f':\"..-.\",\n",
    "           'g':\"--.\",\n",
    "           'h':\"....\",\n",
    "           'i':\"..\",\n",
    "           'j':\".---\",\n",
    "           'k':\"-.-\",\n",
    "           'l':\".-..\",\n",
    "           'm':\"--\",\n",
    "           'n':\"-.\",\n",
    "           'o':\"--.--\",\n",
    "           'p':\".--.\",\n",
    "           'q':\"--.-\",\n",
    "           'r':\".-.\",\n",
    "           's':\"...\",\n",
    "           't':\"-\",\n",
    "           'u':\"..-\",\n",
    "           'v':\"..-\",\n",
    "           'w':\".--\",\n",
    "           'x':\"-..-\",\n",
    "           'y':\"-.--\",\n",
    "           'z':\"--..\"}\n",
    "\n",
    "frase = input('Ingresa una frase: ').lower()\n",
    "\n",
    "for caracter in frase:\n",
    "    if caracter in alfabeto:\n",
    "            print(alfabeto[caracter])"
   ]
  },
  {
   "cell_type": "code",
   "execution_count": 3,
   "metadata": {},
   "outputs": [],
   "source": [
    "def clavesDict(dict1,dict2):\n",
    "    keys1 = dict1.keys()\n",
    "    keys2 = dict2.keys()\n",
    "    \n",
    "    for key in keys1:\n",
    "        if key in keys2:\n",
    "            print(key)"
   ]
  },
  {
   "cell_type": "code",
   "execution_count": 7,
   "metadata": {},
   "outputs": [],
   "source": [
    "def esPrimo(n):\n",
    "    div=0\n",
    "    for i in range(1,n+1):\n",
    "        if n % i == 0:\n",
    "            div+=1\n",
    "    if div > 2:\n",
    "        print('El numero %s no es primo'%n)\n",
    "    else:\n",
    "        print('El numero %s es primo'%n)"
   ]
  },
  {
   "cell_type": "code",
   "execution_count": 83,
   "metadata": {},
   "outputs": [],
   "source": [
    "def upperCammelCase(frase):\n",
    "    string = ''\n",
    "    for idx in range(0,len(frase)):\n",
    "        if idx == 0:\n",
    "            string += frase[idx].upper()\n",
    "        elif frase[idx].isspace():\n",
    "            string += frase[idx].upper()\n",
    "            string += frase[idx+1].upper()\n",
    "        else:\n",
    "            string += frase[idx]\n",
    "    \n",
    "    print(string)"
   ]
  },
  {
   "cell_type": "code",
   "execution_count": 84,
   "metadata": {},
   "outputs": [
    {
     "name": "stdout",
     "output_type": "stream",
     "text": [
      "Santiago Pperez Mmoncada\n"
     ]
    }
   ],
   "source": [
    "upperCammelCase('santiago perez moncada')"
   ]
  },
  {
   "cell_type": "code",
   "execution_count": null,
   "metadata": {},
   "outputs": [],
   "source": []
  }
 ],
 "metadata": {
  "kernelspec": {
   "display_name": "Python 3",
   "language": "python",
   "name": "python3"
  },
  "language_info": {
   "codemirror_mode": {
    "name": "ipython",
    "version": 3
   },
   "file_extension": ".py",
   "mimetype": "text/x-python",
   "name": "python",
   "nbconvert_exporter": "python",
   "pygments_lexer": "ipython3",
   "version": "3.6.5"
  }
 },
 "nbformat": 4,
 "nbformat_minor": 2
}
