{
 "cells": [
  {
   "cell_type": "markdown",
   "metadata": {},
   "source": [
    "## Distribución Hipergeométrica\n",
    "\n",
    "Consideremos el experimento \"extraer a la vez (o una detrás de otra, sin retornarlos) $n$ objetos donde hay $N$ de tipo $A$ y $M$ de tipo $B$\". Si $X$ es una variable aleatoria que mide el \"número de objetos del tipo $A$\", diremos que $X$ se distribuye como Hipergeométrica con parámetros $N,M,n$.\n",
    "\n",
    "\n",
    "$$X \\sim H(N,M,n)$$\n",
    "\n",
    "\n",
    "*   El **dominio** de $X$ será $D_X = \\{0,1,2,...,N\\}$ (en general)\n",
    "\n",
    "\n",
    "*   La **función de densidad** vendrá dada por\n",
    "\n",
    "$$f(k) = \\frac{{N \\choose k} \\cdot {M \\choose n-k}}{{N+M \\choose n}}$$\n",
    "\n",
    "*   La **función de distribución** vendrá dada por\n",
    "\n",
    "$$F(x) = \\left\\{ \\begin{array}{lcc}\n",
    "             0 &   si  & x < 0 \\\\\n",
    "            \\sum_{k=0}^x f(k) & si & 0\\leq x < n \\\\\n",
    "            1 & si & x \\geq n\n",
    "             \\end{array}\n",
    "   \\right.$$\n",
    "   \n",
    "*   **Esperanza** $E(X) = \\frac{nN}{N+M}$\n",
    "\n",
    "*   **Varianza** $Var(X) = \\frac{nNM}{(N+M)^2} \\cdot \\frac{N+M-n}{N+M-1}$\n",
    "\n",
    "\n",
    "\n",
    "El código de la distribución Hipergeométrica:\n",
    "\n",
    "*   En `R` tenemos las funciones del paquete `Rlab: dhyper(x, m, n, k), phyper(q, m, n, k), qhyper(p, m, n, k), rhyper(nn, m, n, k)` donde `m` es el número de objetos del primer tipo, `n` el numero de objetos del segundo tipo y `k` el número de extracciones realizadas.\n",
    "\n",
    "*   En `Python` tenmos las funciones del paquete `scipy.stats.hypergeom: pmf(k,M,n,N), cdf(k,M,n,N), ppf(q,M,n,N), rvs(M,n,N,size)` donde `M` es el número de objetos del primer tipo, `N` el número de objetos del segundo tipo y `n` el número de extracciones realizadas.\n",
    "\n",
    "\n",
    "## Ejemplo\n",
    "\n",
    "Supongamos que tenemos 20 animales, de los cuales 7 son perros. Queremos medir la probabilidad de encontrar un número determinado de perros si elegimos $n=12$ animales al azar. $X \\sim H(13,7,12)$"
   ]
  },
  {
   "cell_type": "code",
   "execution_count": 7,
   "metadata": {},
   "outputs": [
    {
     "data": {
      "image/png": "[encoded data removed]",
      "text/plain": [
       "<Figure size 432x288 with 1 Axes>"
      ]
     },
     "metadata": {
      "needs_background": "light"
     },
     "output_type": "display_data"
    },
    {
     "name": "stdout",
     "output_type": "stream",
     "text": [
      "Media 4.200000\n",
      "Varianza 1.149474\n",
      "Sesgo -0.062181\n",
      "Curtosis -0.152661\n"
     ]
    }
   ],
   "source": [
    "from scipy.stats import hypergeom\n",
    "import matplotlib.pyplot as plt\n",
    "import numpy as np\n",
    "\n",
    "[M, n, N] = [20, 7, 12]\n",
    "rv = hypergeom(M, n, N)\n",
    "x = np.arange(0, n+1)\n",
    "y = rv.pmf(x)\n",
    "\n",
    "fig = plt.figure()\n",
    "ax = fig.add_subplot(111)\n",
    "ax.plot(x,y, 'bo')\n",
    "ax.vlines(x,0,y, lw =2,alpha = 0.5)\n",
    "ax.set_xlabel(\"Numero de perros entre los 12 elegidos al azar\")\n",
    "ax.set_ylabel(\"Distribucion de probabilidad de H(13,7,12)\")\n",
    "plt.show()\n",
    "\n",
    "mean, var ,skew, kurt = rv.stats(moments = 'mvsk')\n",
    "print(\"Media %f\" %mean)\n",
    "print(\"Varianza %f\" %var)\n",
    "print(\"Sesgo %f\" %skew)\n",
    "print(\"Curtosis %f\" %kurt)"
   ]
  },
  {
   "cell_type": "code",
   "execution_count": null,
   "metadata": {},
   "outputs": [],
   "source": []
  }
 ],
 "metadata": {
  "kernelspec": {
   "display_name": "Python 3",
   "language": "python",
   "name": "python3"
  },
  "language_info": {
   "codemirror_mode": {
    "name": "ipython",
    "version": 3
   },
   "file_extension": ".py",
   "mimetype": "text/x-python",
   "name": "python",
   "nbconvert_exporter": "python",
   "pygments_lexer": "ipython3",
   "version": "3.7.6"
  }
 },
 "nbformat": 4,
 "nbformat_minor": 4
}
