{
 "cells": [
  {
   "cell_type": "markdown",
   "metadata": {},
   "source": [
    "## Distribución Uniforme\n",
    "\n",
    "Una v.a. continua $X$ tiene distribución uniforme sobre el intervalo real $[a,b]$ con $a<b,X\\sim \\mathrm{U(a,b)}$ si su función de densidad es\n",
    "\n",
    "$$f_X(x) = \\left\\{ \\begin{array}{lcc}\n",
    "             \\frac{1}{b-a} & si\\;a\\leq x \\leq b \\\\\n",
    "             0 &en\\;cualquier\\;otro\\;caso\n",
    "             \\end{array}\n",
    "   \\right.$$\n",
    "   \n",
    "Modela el elegir un elemento del intervalo $[a,b]$ de manera equiprobable .\n",
    "\n",
    "*   El **dominio** de $X$ será $D_X = [a,b]$\n",
    "\n",
    "*   La **función de distribución** vendrá dada por\n",
    "\n",
    "$$F_X(x) = \\left\\{ \\begin{array}{lcc}\n",
    "             0 & si\\;x<a\\\\\n",
    "             \\frac{x-a}{b-a}&si\\;a\\leq x < b\\\\\n",
    "             1& si\\;x\\geq b\\\\\n",
    "             \\end{array}\n",
    "   \\right.$$\n",
    "   \n",
    "*   **Esperanza** $E(X) = \\frac{a+b}{2}$\n",
    "\n",
    "*   **Varianza** $Var(X) = \\frac{(b-a)^2}{12}$\n",
    "\n",
    "El código de la distribución Uniforme:\n",
    "\n",
    "*   En `R` tenemos las funciones del paquete `stats:dunif(x, min, max),        punif(q, min, max), qunif(p, min, max), runif(n, min, max)` donde `min`     y `max` són los extremos de los intervalos de distribución uniforme.\n",
    "\n",
    "\n",
    "*   En `Python` tenemos las funciones del paquete `scipy.stats.uniform:        pmf(k,loc,scale), cdf(k,loc,scale), ppf(q,loc,scale),rvs(n,loc,scaler)`     donde la distribución uniforme está definida en el intervalo `[loc,        loc+scale]`\n",
    "\n",
    "\n",
    "### Ejemplo\n",
    "\n",
    "Supongamos que $X\\sim U([0,1])$ entonces podemos estudiar sus parámetros"
   ]
  },
  {
   "cell_type": "code",
   "execution_count": 11,
   "metadata": {},
   "outputs": [
    {
     "name": "stdout",
     "output_type": "stream",
     "text": [
      "Media 0.500000\n",
      "Varianza 0.083333\n",
      "Sesgo 0.000000\n",
      "Curtosis -1.200000\n"
     ]
    },
    {
     "data": {
      "image/png": "[encoded data removed]",
      "text/plain": [
       "<Figure size 432x288 with 1 Axes>"
      ]
     },
     "metadata": {
      "needs_background": "light"
     },
     "output_type": "display_data"
    }
   ],
   "source": [
    "from scipy.stats import uniform\n",
    "import matplotlib.pyplot as plt\n",
    "import numpy as np\n",
    "\n",
    "\n",
    "a = 0\n",
    "b = 1\n",
    "\n",
    "loc = a\n",
    "scale = b-a\n",
    "\n",
    "fig,ax = plt.subplots(1,1)\n",
    "rv = uniform(loc = loc, scale = scale)\n",
    "\n",
    "mean, var ,skew, kurt = rv.stats(moments = 'mvsk')\n",
    "print(\"Media %f\" %mean)\n",
    "print(\"Varianza %f\" %var)\n",
    "print(\"Sesgo %f\" %skew)\n",
    "print(\"Curtosis %f\" %kurt)\n",
    "\n",
    "\n",
    "x = np.linspace(-0.1,1.1, 120)\n",
    "ax.plot(x, rv.pdf(x), 'b-', lw = 2, label = 'U(0,1)')\n",
    "\n",
    "r = rv.rvs(size=100000)\n",
    "ax.hist(r, density = True, histtype = 'stepfilled', alpha=0.25)\n",
    "ax.legend(loc = 'best', frameon = False)\n",
    "plt.show()"
   ]
  },
  {
   "cell_type": "code",
   "execution_count": null,
   "metadata": {},
   "outputs": [],
   "source": []
  }
 ],
 "metadata": {
  "kernelspec": {
   "display_name": "Python 3",
   "language": "python",
   "name": "python3"
  },
  "language_info": {
   "codemirror_mode": {
    "name": "ipython",
    "version": 3
   },
   "file_extension": ".py",
   "mimetype": "text/x-python",
   "name": "python",
   "nbconvert_exporter": "python",
   "pygments_lexer": "ipython3",
   "version": "3.7.6"
  }
 },
 "nbformat": 4,
 "nbformat_minor": 4
}
