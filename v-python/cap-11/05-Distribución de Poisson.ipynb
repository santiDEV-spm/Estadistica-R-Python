{
 "cells": [
  {
   "cell_type": "markdown",
   "metadata": {},
   "source": [
    "## Distribución de Poisson\n",
    "\n",
    "Si $X$ es variable aleatoria que mide el \"número de eventos en cierto intervalo de tiempo\", diremos que $X$ se distribuye como una Poisson con parámetro $\\lambda$\n",
    "\n",
    "$$X \\sim \\mathrm{Po(\\lambda)}$$\n",
    "donde $\\lambda$ representa el número de veces que se espera que ocurra el evento en un intervalo dado.\n",
    "\n",
    "\n",
    "*   El **dominio** de $X$ será $D_X = \\{0,1,2,...\\}$\n",
    "\n",
    "\n",
    "*   La **función de densidad** vendrá dada por\n",
    "\n",
    "$$f(k) = \\frac{e^{-\\lambda}\\lambda^k}{k!}$$\n",
    "\n",
    "*   La **función de distribución** vendrá dada por\n",
    "\n",
    "$$F(x) = \\left\\{ \\begin{array}{lcc}\n",
    "             0 &   si  & x < 0 \\\\\n",
    "            \\sum_{k=0}^x f(k) & si & 0\\leq x < n \\\\\n",
    "            1 & si & x \\geq n\n",
    "             \\end{array}\n",
    "   \\right.$$\n",
    "\n",
    "\n",
    "*   **Esperanza** $E(X) = \\lambda$\n",
    "\n",
    "*   **Varianza** $Var(X) = \\lambda$\n",
    "\n",
    "$$\\;$$\n",
    "$$\\;$$\n",
    "\n",
    "El código de la distribución de Poisson:\n",
    "\n",
    "*   En `R` tenemos las funciones del paquete `Rlab: dpois(x,lambda), ppois(q,lambda), qpois(p,lambda), rpois(n,lambda)` donde `lambda` es el numero esperado de eventos por unidad de tiempo de la distribución.\n",
    "\n",
    "\n",
    "*   En `Python` tenemos funciones del paquete `scipy.stats.poisson`: `pmf(k,mu), cdf(k,mu), ppf(q,mu), rvs(M,mu)` donde `mu` es el número esperado de eventos por unidad de tiempo de la distribución.\n",
    "\n",
    "\n",
    "### Ejemplo\n",
    " \n",
    "Supongamos que $X$ modela el número de errores por página que tiene un valor esperado $\\lambda = 0.8$. cada 10 paginas hay 8 errores"
   ]
  },
  {
   "cell_type": "code",
   "execution_count": 11,
   "metadata": {},
   "outputs": [
    {
     "name": "stdout",
     "output_type": "stream",
     "text": [
      "Media 0.800000\n",
      "Varianza 0.800000\n",
      "Sesgo 1.118034\n",
      "Curtosis 1.250000\n"
     ]
    },
    {
     "data": {
      "image/png": "[encoded data removed]",
      "text/plain": [
       "<Figure size 432x288 with 1 Axes>"
      ]
     },
     "metadata": {
      "needs_background": "light"
     },
     "output_type": "display_data"
    }
   ],
   "source": [
    "import numpy as np\n",
    "from scipy.stats import poisson\n",
    "import matplotlib.pyplot as plt\n",
    "\n",
    "fig, ax = plt.subplots(1,1)\n",
    "mu = 0.8\n",
    "\n",
    "mean, var ,skew, kurt = poisson.stats(mu,moments = 'mvsk')\n",
    "print(\"Media %f\" %mean)\n",
    "print(\"Varianza %f\" %var)\n",
    "print(\"Sesgo %f\" %skew)\n",
    "print(\"Curtosis %f\" %kurt)\n",
    "\n",
    "x = np.arange(0,5)\n",
    "ax.plot(x, poisson.pmf(x,mu), 'bo', ms = 8, label = 'Poisson(0.8)')\n",
    "ax.vlines(x,0,poisson.pmf(x,mu), colors = 'b', lw = 4, alpha = 0.5)\n",
    "ax.legend(loc='best', frameon = False)\n",
    "plt.show()"
   ]
  },
  {
   "cell_type": "code",
   "execution_count": null,
   "metadata": {},
   "outputs": [],
   "source": []
  }
 ],
 "metadata": {
  "kernelspec": {
   "display_name": "Python 3",
   "language": "python",
   "name": "python3"
  },
  "language_info": {
   "codemirror_mode": {
    "name": "ipython",
    "version": 3
   },
   "file_extension": ".py",
   "mimetype": "text/x-python",
   "name": "python",
   "nbconvert_exporter": "python",
   "pygments_lexer": "ipython3",
   "version": "3.7.6"
  }
 },
 "nbformat": 4,
 "nbformat_minor": 4
}
