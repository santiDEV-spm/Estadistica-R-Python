{
 "cells": [
  {
   "cell_type": "markdown",
   "metadata": {},
   "source": [
    "# Distribución de Bernoulli\n",
    "\n",
    "Si $X$ es variable aleatoria quemide el \"número de éxitos\" y se realiza un único experimento con dos posibles resultados (éxito, que toma valor 1, o fracaso, que toma el valor 0), diremos que $X$ se distribuye como una Bernoulli con parámetro $p$\n",
    "\n",
    "$$X \\sim Be(p)$$\n",
    "\n",
    "donde $p$ es la probabilidad de éxito y $q = 1-p$ es la probabilidad de fracaso.\n",
    "\n",
    "\n",
    "*   El **dominio** de $X$ será $X(\\Omega) = \\{0,1\\}$\n",
    "\n",
    "\n",
    "*   La **función de probabilidad** vendrá dada por\n",
    "\n",
    "\n",
    "$$f(k) = p^k(1-p)^{1-k} = \\left\\{ \\begin{array}{lcc}\n",
    "             p &   si  & k = 1 \\\\\n",
    "             \\\\ 1-p &  si & k = 0 \\\\\n",
    "             \\\\ 0 &  en  & cualquier \\; otro \\; caso\n",
    "             \\end{array}\n",
    "   \\right.$$\n",
    "\n",
    "$$\\;$$\n",
    "\n",
    "*   La **función de distribución** vendrá dada por\n",
    "\n",
    "$$F(k) = \\left\\{ \\begin{array}{lcc}\n",
    "             0 &   si  & k < 0 \\\\\n",
    "             \\\\ q &  si & 0 \\leq k < 1 \\\\\n",
    "             \\\\ 1 &  si  & k \\geq 1\n",
    "             \\end{array}\n",
    "   \\right.$$\n",
    "\n",
    "\n",
    "*   **Esperanza** $E(X) = p$\n",
    "\n",
    "*   **Varianza** $Var(X) = pq$\n",
    "\n",
    "\n",
    "El código de la distribución de Bernoulli:\n",
    "\n",
    "\n",
    "*   En `R` tenemos las funciones del paquete `Rlab`:`dbenr(x,prob)`, `pbenr(p,prob)`, `qbenr(p,prob)`, `rbenr(n.prob)` donde `prob` es la probabilidad de éxito.\n",
    "\n",
    "\n",
    "*   En `Python` tenemos las funciones del paquete `scipy.stats.bernoulli`: `pmf(k,p), cdf(q,p), ppf(q,p), rvs(p,size)` donde `p` es la probabilidad de éxito.\n",
    "\n",
    "\n",
    "## Funcion de densidad\n",
    "\n",
    "$$f(k) = p^k(1-p)^{1-k}, \\ k\\in\\{0,1\\}$$\n",
    "Sea $X \\sim Be(p=0.7)$, la distribución que modela la probabilidad de obtener una cara usando una moneda trucada.\n"
   ]
  },
  {
   "cell_type": "code",
   "execution_count": 2,
   "metadata": {},
   "outputs": [
    {
     "name": "stderr",
     "output_type": "stream",
     "text": [
      "/home/santiago/anaconda3/lib/python3.7/importlib/_bootstrap.py:219: RuntimeWarning: numpy.ufunc size changed, may indicate binary incompatibility. Expected 192 from C header, got 216 from PyObject\n",
      "  return f(*args, **kwds)\n",
      "/home/santiago/anaconda3/lib/python3.7/importlib/_bootstrap.py:219: RuntimeWarning: numpy.ufunc size changed, may indicate binary incompatibility. Expected 192 from C header, got 216 from PyObject\n",
      "  return f(*args, **kwds)\n",
      "/home/santiago/anaconda3/lib/python3.7/importlib/_bootstrap.py:219: RuntimeWarning: numpy.ufunc size changed, may indicate binary incompatibility. Expected 192 from C header, got 216 from PyObject\n",
      "  return f(*args, **kwds)\n"
     ]
    }
   ],
   "source": [
    "from scipy.stats import bernoulli\n",
    "import matplotlib.pyplot as plt"
   ]
  },
  {
   "cell_type": "code",
   "execution_count": 4,
   "metadata": {},
   "outputs": [
    {
     "name": "stdout",
     "output_type": "stream",
     "text": [
      "Media 0.700000\n",
      "Varianza 0.210000\n",
      "Sesgo -0.872872\n",
      "Curtosis -1.238095\n"
     ]
    }
   ],
   "source": [
    "p = 0.7\n",
    "\n",
    "mean, var, skew, kurt = bernoulli.stats(p, moments = 'mvsk')\n",
    "print(\"Media %f\" %mean)\n",
    "print(\"Varianza %f\" %var)\n",
    "print(\"Sesgo %f\" %skew)\n",
    "print(\"Curtosis %f\" %kurt)"
   ]
  },
  {
   "cell_type": "code",
   "execution_count": 8,
   "metadata": {},
   "outputs": [
    {
     "data": {
      "image/png": "[encoded data removed]",
      "text/plain": [
       "<Figure size 432x288 with 1 Axes>"
      ]
     },
     "metadata": {
      "needs_background": "light"
     },
     "output_type": "display_data"
    }
   ],
   "source": [
    "fix ,ax = plt.subplots(1,1)\n",
    "x = bernoulli.rvs(p, size = 1000)\n",
    "ax.hist(x)\n",
    "plt.show()"
   ]
  },
  {
   "cell_type": "code",
   "execution_count": 7,
   "metadata": {},
   "outputs": [],
   "source": []
  },
  {
   "cell_type": "code",
   "execution_count": null,
   "metadata": {},
   "outputs": [],
   "source": []
  }
 ],
 "metadata": {
  "kernelspec": {
   "display_name": "Python 3",
   "language": "python",
   "name": "python3"
  },
  "language_info": {
   "codemirror_mode": {
    "name": "ipython",
    "version": 3
   },
   "file_extension": ".py",
   "mimetype": "text/x-python",
   "name": "python",
   "nbconvert_exporter": "python",
   "pygments_lexer": "ipython3",
   "version": "3.7.6"
  }
 },
 "nbformat": 4,
 "nbformat_minor": 4
}
