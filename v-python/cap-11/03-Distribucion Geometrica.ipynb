{
 "cells": [
  {
   "cell_type": "markdown",
   "metadata": {},
   "source": [
    "## Distribución Geométrica\n",
    "\n",
    "Si $X$ es variable aleatoria que mide el \"numero de repeticiones independientes del experimento hasta haber conseguido éxito\", diremos que $X$ se distribuye como una Geométrica con parámetro $p$\n",
    "\n",
    "$$X \\sim Ge(p)$$\n",
    "donde $p$ es la probabilidad de éxito y $q=1-p$ es la probabilidad de fracaso.\n",
    "\n",
    "*   El **dominio** de $X$ será $D_X = \\{0,1,2,...\\}$ o bien $D_X = \\{1,2,...\\}$ en función de si empieza en 0 o en 1, respectivamente.\n",
    "\n",
    "*   La **función de densidad** vendrá dada por\n",
    "\n",
    "$$f(k) = (1-p)^kp \\hspace{2em} si\\;empieza\\;en\\;0$$ \n",
    "$$f(k) = (1-p)^{k-1}p \\hspace{2em} si\\;empieza\\;en\\;1$$ \n",
    "\n",
    "*   La **función de distribución** vendrá dada por\n",
    "\n",
    "$$F(x) = \\left\\{ \\begin{array}{lcc}\n",
    "             0 &   si  & x < 0 \\\\\n",
    "            1-(1-p)^{k+1} & si & k \\leq x < k+1,k\\in \\mathbb{N}\n",
    "             \\end{array}\n",
    "   \\right.$$\n",
    "   \n",
    "*   **Esperanza** $E(X) = \\frac{1-p}{p}$ si empieza en 0 y $E(X) = \\frac{1}{p}$ si empieza     en 1.\n",
    "\n",
    "*   **Varianza** $Var(X) =  \\frac{1-p}{p^2}$\n",
    "\n",
    "*   **Propiedad de la falta de memoria**. Si $X$ es una v.a. $Ge(p)$, entonces,\n",
    "\n",
    "$$p\\{X \\geq m+n:X\\geq n\\} = p\\{X\\geq m\\}\\;\\forall m,n = 0,1,...$$\n",
    "\n",
    "El código de la distribución Geométrica:\n",
    "\n",
    "*   En `R` tenemos las funciones del paquete `Rlab`:`dgeom(x,prob)`,                           `pgeom(q,prob)`, `qgeom(p,prob)`,`rgeom(n,prob)` donde `prob` es la probabilidad de        éxito del experimento.\n",
    "\n",
    "\n",
    "*   En `Python` tenmos las funciones del paquete `scipy.stats.geom`: `pmf(k,n,p)`,             `cdf(k,n,p)`, `ppf(q,n,p)`, `rvs(n,p,size)` donde `p` es la probabilidad de éxito y `n`      el numero de ensayos del experimento.\n",
    "\n",
    "\n",
    "### Ejemplo\n",
    "\n",
    "Sea $X = Ge(p=0.1)$ la dist5ribución que modela la probabilidad de intentar abrir una puerta hasta conseguirlo teniendo una manojo de 10 llaves y solo 3 abren la puerta $p = \\frac{3}{10} = 0.3$ Si contamos los intentos la función de densidad es:\n",
    "\n",
    "$$f(k) = (1-p)^{k-1}p $$"
   ]
  },
  {
   "cell_type": "code",
   "execution_count": 6,
   "metadata": {},
   "outputs": [
    {
     "name": "stdout",
     "output_type": "stream",
     "text": [
      "Media 3.333333\n",
      "Varianza 7.777778\n",
      "Sesgo 2.031889\n",
      "Curtosis 6.128571\n"
     ]
    },
    {
     "data": {
      "image/png": "[encoded data removed]",
      "text/plain": [
       "<Figure size 432x288 with 1 Axes>"
      ]
     },
     "metadata": {
      "needs_background": "light"
     },
     "output_type": "display_data"
    },
    {
     "data": {
      "image/png": "[encoded data removed]",
      "text/plain": [
       "<Figure size 432x288 with 1 Axes>"
      ]
     },
     "metadata": {
      "needs_background": "light"
     },
     "output_type": "display_data"
    },
    {
     "data": {
      "image/png": "[encoded data removed]",
      "text/plain": [
       "<Figure size 432x288 with 1 Axes>"
      ]
     },
     "metadata": {
      "needs_background": "light"
     },
     "output_type": "display_data"
    }
   ],
   "source": [
    "from scipy.stats import geom\n",
    "import matplotlib.pyplot as plt\n",
    "import numpy as np\n",
    "\n",
    "fig, ax = plt.subplots(1,1)\n",
    "p = 0.3\n",
    "\n",
    "mean, var ,skew, kurt = geom.stats(p, moments = 'mvsk')\n",
    "print(\"Media %f\" %mean)\n",
    "print(\"Varianza %f\" %var)\n",
    "print(\"Sesgo %f\" %skew)\n",
    "print(\"Curtosis %f\" %kurt)\n",
    "\n",
    "x = np.arange(geom.ppf(0.01,p),geom.ppf(0.99,p))\n",
    "ax.plot(x,geom.pmf(x,p), 'bo', ms = 8, label = 'Funcion de probabilidad Ge(0.3)')\n",
    "ax.vlines(x,0,geom.pmf(x,p), colors = 'b', lw =4, alpha = 0.5)\n",
    "\n",
    "rv = geom(p)\n",
    "ax.vlines(x,0,rv.pmf(x), colors = 'k', linestyles = '--', lw=1, label = 'Frozen PMF')\n",
    "ax.legend(loc = 'best')\n",
    "plt.show()\n",
    "\n",
    "fig, ax = plt.subplots(1,1)\n",
    "prob = geom.cdf(x,p)\n",
    "ax.plot(x,prob, 'bo', ms = 8, label = \"Función de distribución acumulada\")\n",
    "\n",
    "fig, ax = plt.subplots(1,1)\n",
    "r = geom.rvs(p, size = 10000)\n",
    "plt.hist(r)\n",
    "plt.show()"
   ]
  },
  {
   "cell_type": "code",
   "execution_count": null,
   "metadata": {},
   "outputs": [],
   "source": []
  }
 ],
 "metadata": {
  "kernelspec": {
   "display_name": "Python 3",
   "language": "python",
   "name": "python3"
  },
  "language_info": {
   "codemirror_mode": {
    "name": "ipython",
    "version": 3
   },
   "file_extension": ".py",
   "mimetype": "text/x-python",
   "name": "python",
   "nbconvert_exporter": "python",
   "pygments_lexer": "ipython3",
   "version": "3.7.6"
  }
 },
 "nbformat": 4,
 "nbformat_minor": 4
}
