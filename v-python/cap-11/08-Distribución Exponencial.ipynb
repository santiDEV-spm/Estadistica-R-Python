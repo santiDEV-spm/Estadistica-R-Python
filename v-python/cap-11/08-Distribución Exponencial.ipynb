{
 "cells": [
  {
   "cell_type": "markdown",
   "metadata": {},
   "source": [
    "## Distribución Exponencial\n",
    "\n",
    "Una v.a. $X$ tiene distribución exponencial de parámetro $\\lambda,X \\sim \\mathrm{Exp(\\lambda)}$, si su función de densidad es\n",
    "\n",
    "$$f_X(x) = \\left\\{ \\begin{array}{lcc}\n",
    "             0 & si\\;x\\leq 0\\\\\n",
    "             \\lambda\\cdot e^{-\\lambda x} &si\\;x>0\n",
    "             \\end{array}\n",
    "   \\right.$$\n",
    "   \n",
    "\n",
    "**Teorema**. Si tenemos un proceso de Poisson de parámetro $\\lambda$ por unidad de tiempo, el tiempo que pasa entre dos sucesos consecutivos es una v.a. $\\mathrm{Exp(\\lambda)}$\n",
    "\n",
    "**Propiedad de la pérdida de memoria**. Si $X$ es v.a. $\\mathrm{Exp(\\lambda)}$, entonces\n",
    "\n",
    "$$p(X>s+t:X>s) = p(X>t)\\forall s,t > 0$$\n",
    "\n",
    "*   El **dominio** de $X$ será $D_X = [0,\\infty)$\n",
    "\n",
    "*   La **función de distribución** vendrá dada por\n",
    "\n",
    "$$F_X(x) = \\left\\{ \\begin{array}{lcc}\n",
    "             0 & si\\;x\\leq 0\\\\\n",
    "             1-e^{-\\lambda x}&si\\;x>0\n",
    "             \\end{array}\n",
    "   \\right.$$\n",
    "\n",
    "*   **Esperanza** $E(X) = \\frac{1}{\\lambda}$\n",
    "\n",
    "*   **Varianza** $Var(X) = \\frac{1}{\\lambda^2}$\n",
    "\n",
    "El código de la distribución Exponencial:\n",
    "\n",
    "*   En `R` tenemos las funciones del paquete `stats:dexp(x, rate),             pexp(q,rate), qexp(p, rate), rexp(n, rate)` donde `rate=`$\\lambda$ es      el tiempo entre dos sucesoso consecutivos de la distribución.\n",
    "\n",
    "*   En `Python` tenemos las funciones del paquete `scipy.stats.expon:          pmf(k,scale), cdf(k,scale), ppf(q,scale),rvs(n,scaler)` donde `scale =     `$\\frac{1}{\\lambda}$ es la inversa del tiempo entre dos sucesos            consecutivos de la distribución.\n"
   ]
  },
  {
   "cell_type": "code",
   "execution_count": 10,
   "metadata": {},
   "outputs": [
    {
     "name": "stdout",
     "output_type": "stream",
     "text": [
      "Media 0.333333\n",
      "Varianza 0.111111\n",
      "Sesgo 2.000000\n",
      "Curtosis 6.000000\n"
     ]
    },
    {
     "data": {
      "image/png": "[encoded data removed]",
      "text/plain": [
       "<Figure size 432x288 with 1 Axes>"
      ]
     },
     "metadata": {
      "needs_background": "light"
     },
     "output_type": "display_data"
    }
   ],
   "source": [
    "from scipy.stats import expon\n",
    "import numpy as np\n",
    "import matplotlib.pyplot as plt\n",
    "\n",
    "fig, ax = plt.subplots(1,1)\n",
    "\n",
    "lam = 3\n",
    "rv = expon(scale = 1/lam)\n",
    "\n",
    "mean, var, skew, kurt = rv.stats(moments='mvsk')\n",
    "print(\"Media %f\" %mean)\n",
    "print(\"Varianza %f\" %var)\n",
    "print(\"Sesgo %f\" %skew)\n",
    "print(\"Curtosis %f\" %kurt)\n",
    "\n",
    "x = np.linspace(0, 2, 1000)\n",
    "ax.plot(x, rv.pdf(x), 'r-', lw = 3, alpha = 0.6, label = r'$X \\sim $Exp($\\lambda = 10$)')\n",
    "\n",
    "r = rv.rvs(size = 100000)\n",
    "ax.hist(r, density = True, histtype = 'stepfilled', alpha = 0.4)\n",
    "\n",
    "ax.legend(loc = 'best', frameon = False)\n",
    "plt.show()"
   ]
  },
  {
   "cell_type": "code",
   "execution_count": null,
   "metadata": {},
   "outputs": [],
   "source": []
  }
 ],
 "metadata": {
  "kernelspec": {
   "display_name": "Python 3",
   "language": "python",
   "name": "python3"
  },
  "language_info": {
   "codemirror_mode": {
    "name": "ipython",
    "version": 3
   },
   "file_extension": ".py",
   "mimetype": "text/x-python",
   "name": "python",
   "nbconvert_exporter": "python",
   "pygments_lexer": "ipython3",
   "version": "3.7.6"
  }
 },
 "nbformat": 4,
 "nbformat_minor": 4
}
