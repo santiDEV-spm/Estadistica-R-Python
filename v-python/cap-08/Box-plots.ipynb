{
 "cells": [
  {
   "cell_type": "markdown",
   "metadata": {},
   "source": [
    "# Diagrama de Caja y Bigotes"
   ]
  },
  {
   "cell_type": "code",
   "execution_count": 2,
   "metadata": {},
   "outputs": [],
   "source": [
    "import numpy as np\n",
    "import matplotlib.pyplot as plt"
   ]
  },
  {
   "cell_type": "code",
   "execution_count": 3,
   "metadata": {},
   "outputs": [],
   "source": [
    "np.random.seed(19880519)"
   ]
  },
  {
   "cell_type": "code",
   "execution_count": 4,
   "metadata": {},
   "outputs": [],
   "source": [
    "dist1 = 100*np.random.rand(50)\n",
    "dist2 = 50*np.ones(25)\n",
    "dist3 = 100+100*np.random.rand(10)\n",
    "dist4 = -100*np.random.rand(10)\n",
    "data = np.concatenate((dist1,dist2,dist3,dist4))"
   ]
  },
  {
   "cell_type": "code",
   "execution_count": 5,
   "metadata": {},
   "outputs": [
    {
     "data": {
      "text/plain": [
       "{'whiskers': [<matplotlib.lines.Line2D at 0x7f182a084210>,\n",
       "  <matplotlib.lines.Line2D at 0x7f182dbf2fd0>],\n",
       " 'caps': [<matplotlib.lines.Line2D at 0x7f182b63e1d0>,\n",
       "  <matplotlib.lines.Line2D at 0x7f182de1cb50>],\n",
       " 'boxes': [<matplotlib.lines.Line2D at 0x7f182dbf2510>],\n",
       " 'medians': [<matplotlib.lines.Line2D at 0x7f182e5ab090>],\n",
       " 'fliers': [<matplotlib.lines.Line2D at 0x7f182acd5590>],\n",
       " 'means': []}"
      ]
     },
     "execution_count": 5,
     "metadata": {},
     "output_type": "execute_result"
    },
    {
     "data": {
      "image/png": "[encoded data removed]",
      "text/plain": [
       "<Figure size 432x288 with 1 Axes>"
      ]
     },
     "metadata": {
      "needs_background": "light"
     },
     "output_type": "display_data"
    }
   ],
   "source": [
    "fig1, ax1 = plt.subplots()\n",
    "ax1.set_title(\"Boxplot básico\")\n",
    "ax1.boxplot(data)"
   ]
  },
  {
   "cell_type": "code",
   "execution_count": 7,
   "metadata": {},
   "outputs": [
    {
     "data": {
      "text/plain": [
       "{'whiskers': [<matplotlib.lines.Line2D at 0x7f1829bc8a90>,\n",
       "  <matplotlib.lines.Line2D at 0x7f1829c94b90>],\n",
       " 'caps': [<matplotlib.lines.Line2D at 0x7f1829bc8410>,\n",
       "  <matplotlib.lines.Line2D at 0x7f1829c8ae10>],\n",
       " 'boxes': [<matplotlib.lines.Line2D at 0x7f1829bc8a50>],\n",
       " 'medians': [<matplotlib.lines.Line2D at 0x7f1829c94ed0>],\n",
       " 'fliers': [<matplotlib.lines.Line2D at 0x7f1829ef9f10>],\n",
       " 'means': []}"
      ]
     },
     "execution_count": 7,
     "metadata": {},
     "output_type": "execute_result"
    },
    {
     "data": {
      "image/png": "[encoded data removed]",
      "text/plain": [
       "<Figure size 432x288 with 1 Axes>"
      ]
     },
     "metadata": {
      "needs_background": "light"
     },
     "output_type": "display_data"
    }
   ],
   "source": [
    "fig2, ax2 = plt.subplots()\n",
    "ax2.set_title(\"Boxplot con muescas\")\n",
    "ax2.boxplot(data, notch=True)"
   ]
  },
  {
   "cell_type": "code",
   "execution_count": 9,
   "metadata": {},
   "outputs": [
    {
     "data": {
      "text/plain": [
       "{'whiskers': [<matplotlib.lines.Line2D at 0x7f182d70b250>,\n",
       "  <matplotlib.lines.Line2D at 0x7f182e354fd0>],\n",
       " 'caps': [<matplotlib.lines.Line2D at 0x7f182f6cc790>,\n",
       "  <matplotlib.lines.Line2D at 0x7f182de2b2d0>],\n",
       " 'boxes': [<matplotlib.lines.Line2D at 0x7f182d70b850>],\n",
       " 'medians': [<matplotlib.lines.Line2D at 0x7f182e5b3750>],\n",
       " 'fliers': [<matplotlib.lines.Line2D at 0x7f182d839e90>],\n",
       " 'means': []}"
      ]
     },
     "execution_count": 9,
     "metadata": {},
     "output_type": "execute_result"
    },
    {
     "data": {
      "image/png": "[encoded data removed]",
      "text/plain": [
       "<Figure size 432x288 with 1 Axes>"
      ]
     },
     "metadata": {
      "needs_background": "light"
     },
     "output_type": "display_data"
    }
   ],
   "source": [
    "green_diamont = dict(markerfacecolor =\"g\", marker='D')\n",
    "fig3, ax3 = plt.subplots()\n",
    "ax3.set_title(\"Boxplot con outlier personalizados\")\n",
    "ax3.boxplot(data, flierprops = green_diamont)"
   ]
  },
  {
   "cell_type": "code",
   "execution_count": 11,
   "metadata": {},
   "outputs": [
    {
     "data": {
      "text/plain": [
       "{'whiskers': [<matplotlib.lines.Line2D at 0x7f182affd610>,\n",
       "  <matplotlib.lines.Line2D at 0x7f182d9db550>],\n",
       " 'caps': [<matplotlib.lines.Line2D at 0x7f182e22b1d0>,\n",
       "  <matplotlib.lines.Line2D at 0x7f182affd3d0>],\n",
       " 'boxes': [<matplotlib.lines.Line2D at 0x7f182affdb50>],\n",
       " 'medians': [<matplotlib.lines.Line2D at 0x7f182e22b9d0>],\n",
       " 'fliers': [],\n",
       " 'means': []}"
      ]
     },
     "execution_count": 11,
     "metadata": {},
     "output_type": "execute_result"
    },
    {
     "data": {
      "image/png": "[encoded data removed]",
      "text/plain": [
       "<Figure size 432x288 with 1 Axes>"
      ]
     },
     "metadata": {
      "needs_background": "light"
     },
     "output_type": "display_data"
    }
   ],
   "source": [
    "fig4, ax4 = plt.subplots()\n",
    "ax4.set_title(\"Boxplot sin outliers\")\n",
    "ax4.boxplot(data, showfliers = False)"
   ]
  },
  {
   "cell_type": "code",
   "execution_count": 14,
   "metadata": {},
   "outputs": [
    {
     "data": {
      "text/plain": [
       "{'whiskers': [<matplotlib.lines.Line2D at 0x7f1828eb0550>,\n",
       "  <matplotlib.lines.Line2D at 0x7f1828eb0a90>],\n",
       " 'caps': [<matplotlib.lines.Line2D at 0x7f1828f5f1d0>,\n",
       "  <matplotlib.lines.Line2D at 0x7f182d717b90>],\n",
       " 'boxes': [<matplotlib.lines.Line2D at 0x7f1828eb04d0>],\n",
       " 'medians': [<matplotlib.lines.Line2D at 0x7f182919a1d0>],\n",
       " 'fliers': [<matplotlib.lines.Line2D at 0x7f182919db50>],\n",
       " 'means': []}"
      ]
     },
     "execution_count": 14,
     "metadata": {},
     "output_type": "execute_result"
    },
    {
     "data": {
      "image/png": "[encoded data removed]",
      "text/plain": [
       "<Figure size 432x288 with 1 Axes>"
      ]
     },
     "metadata": {
      "needs_background": "light"
     },
     "output_type": "display_data"
    }
   ],
   "source": [
    "red_square = dict(markerfacecolor = \"r\", marker='s')\n",
    "fig5, ax5 = plt.subplots()\n",
    "ax5.set_title(\"Boxplot personalizado y en horizontal\")\n",
    "ax5.boxplot(data, vert=False, flierprops = red_square, whis=0.75)"
   ]
  },
  {
   "cell_type": "code",
   "execution_count": 15,
   "metadata": {},
   "outputs": [],
   "source": [
    "dist1 = 100*np.random.rand(50)\n",
    "dist2 = 40*np.ones(25)\n",
    "dist3 = 100+100*np.random.rand(10)\n",
    "dist4 = -100*np.random.rand(10)\n",
    "data2 = np.concatenate((dist1,dist2,dist3,dist4))"
   ]
  },
  {
   "cell_type": "code",
   "execution_count": 16,
   "metadata": {},
   "outputs": [],
   "source": [
    "data.shape = (-1,1)\n",
    "data2.shape = (-1,1)"
   ]
  },
  {
   "cell_type": "code",
   "execution_count": 18,
   "metadata": {},
   "outputs": [],
   "source": [
    "fulldata = [data,data2,data2[::2,0] ]"
   ]
  },
  {
   "cell_type": "code",
   "execution_count": 19,
   "metadata": {},
   "outputs": [
    {
     "data": {
      "text/plain": [
       "{'whiskers': [<matplotlib.lines.Line2D at 0x7f1828cb5d10>,\n",
       "  <matplotlib.lines.Line2D at 0x7f1828cc18d0>,\n",
       "  <matplotlib.lines.Line2D at 0x7f1828cb8250>,\n",
       "  <matplotlib.lines.Line2D at 0x7f1828cb6790>,\n",
       "  <matplotlib.lines.Line2D at 0x7f1828cb8050>,\n",
       "  <matplotlib.lines.Line2D at 0x7f1828c8a750>],\n",
       " 'caps': [<matplotlib.lines.Line2D at 0x7f1828cba250>,\n",
       "  <matplotlib.lines.Line2D at 0x7f1828ebf310>,\n",
       "  <matplotlib.lines.Line2D at 0x7f1828cb8dd0>,\n",
       "  <matplotlib.lines.Line2D at 0x7f1828cb3990>,\n",
       "  <matplotlib.lines.Line2D at 0x7f1828c8a810>,\n",
       "  <matplotlib.lines.Line2D at 0x7f1828c9f290>],\n",
       " 'boxes': [<matplotlib.lines.Line2D at 0x7f1828cbbad0>,\n",
       "  <matplotlib.lines.Line2D at 0x7f1828cb9710>,\n",
       "  <matplotlib.lines.Line2D at 0x7f1828d17610>],\n",
       " 'medians': [<matplotlib.lines.Line2D at 0x7f1828cba150>,\n",
       "  <matplotlib.lines.Line2D at 0x7f1828cb3510>,\n",
       "  <matplotlib.lines.Line2D at 0x7f1828c9f710>],\n",
       " 'fliers': [<matplotlib.lines.Line2D at 0x7f1828cb8350>,\n",
       "  <matplotlib.lines.Line2D at 0x7f1828d14710>,\n",
       "  <matplotlib.lines.Line2D at 0x7f1828c9fc10>],\n",
       " 'means': []}"
      ]
     },
     "execution_count": 19,
     "metadata": {},
     "output_type": "execute_result"
    },
    {
     "data": {
      "image/png": "[encoded data removed]",
      "text/plain": [
       "<Figure size 432x288 with 1 Axes>"
      ]
     },
     "metadata": {
      "needs_background": "light"
     },
     "output_type": "display_data"
    }
   ],
   "source": [
    "fig7, ax7 = plt.subplots()\n",
    "ax7.set_title('Multiples muestras de diferente naturaleza')\n",
    "ax7.boxplot(fulldata)"
   ]
  },
  {
   "cell_type": "code",
   "execution_count": null,
   "metadata": {},
   "outputs": [],
   "source": []
  }
 ],
 "metadata": {
  "kernelspec": {
   "display_name": "Python 3",
   "language": "python",
   "name": "python3"
  },
  "language_info": {
   "codemirror_mode": {
    "name": "ipython",
    "version": 3
   },
   "file_extension": ".py",
   "mimetype": "text/x-python",
   "name": "python",
   "nbconvert_exporter": "python",
   "pygments_lexer": "ipython3",
   "version": "3.7.6"
  }
 },
 "nbformat": 4,
 "nbformat_minor": 4
}
