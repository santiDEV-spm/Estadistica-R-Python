{
 "cells": [
  {
   "cell_type": "markdown",
   "metadata": {},
   "source": [
    "# Operadores de decision"
   ]
  },
  {
   "cell_type": "code",
   "execution_count": 2,
   "metadata": {},
   "outputs": [
    {
     "name": "stdout",
     "output_type": "stream",
     "text": [
      "Escribe un numero: 12\n"
     ]
    }
   ],
   "source": [
    "x = int(input('Escribe un numero: '))"
   ]
  },
  {
   "cell_type": "code",
   "execution_count": 3,
   "metadata": {},
   "outputs": [],
   "source": [
    "if x == 5:\n",
    "    print('Haz escrito el numero 5')"
   ]
  },
  {
   "cell_type": "code",
   "execution_count": 4,
   "metadata": {},
   "outputs": [
    {
     "name": "stdout",
     "output_type": "stream",
     "text": [
      "Escribe un numero: 10\n",
      "EL numero que haz escrito es mayor o igual que 10\n"
     ]
    }
   ],
   "source": [
    "x = int(input('Escribe un numero: '))\n",
    "if x < 5:\n",
    "    print('Haz escrito un numero menor que 5')\n",
    "elif x <10:\n",
    "    print('Haz escrito un numero menor que 10 y mayor o igual que 5')\n",
    "else:\n",
    "    print('EL numero que haz escrito es mayor o igual que 10')"
   ]
  },
  {
   "cell_type": "code",
   "execution_count": 5,
   "metadata": {},
   "outputs": [
    {
     "name": "stdout",
     "output_type": "stream",
     "text": [
      "Escribe un numero: 12\n"
     ]
    }
   ],
   "source": [
    "x = int(input('Escribe un numero: '))\n",
    "if x > 0 and x < 10:\n",
    "    print('Haz escrito un numero en el rango de [0,10]')"
   ]
  },
  {
   "cell_type": "code",
   "execution_count": 7,
   "metadata": {},
   "outputs": [
    {
     "name": "stdout",
     "output_type": "stream",
     "text": [
      "Escribe un numero: 30\n",
      "Haz escrito un numero en el rango de [0,10]\n"
     ]
    }
   ],
   "source": [
    "x = int(input('Escribe un numero: '))\n",
    "if x > 0 and x > 10:\n",
    "    print('Haz escrito un numero fuera del rango de [0,10]')"
   ]
  },
  {
   "cell_type": "code",
   "execution_count": null,
   "metadata": {},
   "outputs": [],
   "source": []
  }
 ],
 "metadata": {
  "kernelspec": {
   "display_name": "Python 3",
   "language": "python",
   "name": "python3"
  },
  "language_info": {
   "codemirror_mode": {
    "name": "ipython",
    "version": 3
   },
   "file_extension": ".py",
   "mimetype": "text/x-python",
   "name": "python",
   "nbconvert_exporter": "python",
   "pygments_lexer": "ipython3",
   "version": "3.6.5"
  }
 },
 "nbformat": 4,
 "nbformat_minor": 2
}
